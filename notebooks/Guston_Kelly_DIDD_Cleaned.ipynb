{
 "cells": [
  {
   "cell_type": "code",
   "execution_count": 1,
   "id": "512f6580",
   "metadata": {},
   "outputs": [],
   "source": [
    "from shapely.geometry import Point\n",
    "import pandas as pd\n",
    "import geopandas as gpd\n",
    "import matplotlib.pyplot as plt\n",
    "import folium\n",
    "from folium.plugins import MarkerCluster\n",
    "from folium.plugins import FastMarkerCluster"
   ]
  },
  {
   "cell_type": "code",
   "execution_count": 2,
   "id": "2a9ad4b3",
   "metadata": {},
   "outputs": [],
   "source": [
    "import numpy as np\n",
    "\n",
    "%matplotlib inline"
   ]
  },
  {
   "cell_type": "markdown",
   "id": "c3929d31",
   "metadata": {},
   "source": [
    "# DATA CLEANING"
   ]
  },
  {
   "cell_type": "code",
   "execution_count": 3,
   "id": "9e981e7a",
   "metadata": {},
   "outputs": [
    {
     "data": {
      "text/html": [
       "<div>\n",
       "<style scoped>\n",
       "    .dataframe tbody tr th:only-of-type {\n",
       "        vertical-align: middle;\n",
       "    }\n",
       "\n",
       "    .dataframe tbody tr th {\n",
       "        vertical-align: top;\n",
       "    }\n",
       "\n",
       "    .dataframe thead th {\n",
       "        text-align: right;\n",
       "    }\n",
       "</style>\n",
       "<table border=\"1\" class=\"dataframe\">\n",
       "  <thead>\n",
       "    <tr style=\"text-align: right;\">\n",
       "      <th></th>\n",
       "      <th>POE</th>\n",
       "      <th>Child ID</th>\n",
       "      <th>DOB</th>\n",
       "      <th>County Name</th>\n",
       "      <th>County SES</th>\n",
       "      <th>Child Phase</th>\n",
       "      <th>Active</th>\n",
       "      <th>Service Coordinator</th>\n",
       "      <th>Notification Date</th>\n",
       "      <th>Parent Consent Date</th>\n",
       "      <th>Referral Source Type Name</th>\n",
       "      <th>Initial Eligibility</th>\n",
       "      <th>Initial Eligibility Date</th>\n",
       "      <th>Initial IFSP Date</th>\n",
       "      <th>Latest IFSP Date</th>\n",
       "      <th>Exit Reason</th>\n",
       "      <th>Exit Date</th>\n",
       "      <th>geometry</th>\n",
       "    </tr>\n",
       "  </thead>\n",
       "  <tbody>\n",
       "    <tr>\n",
       "      <th>0</th>\n",
       "      <td>ET</td>\n",
       "      <td>411812</td>\n",
       "      <td>12/14/2016</td>\n",
       "      <td>Blount</td>\n",
       "      <td>Transitional</td>\n",
       "      <td>Notification</td>\n",
       "      <td>I</td>\n",
       "      <td>Charity Decker</td>\n",
       "      <td>12/16/2016</td>\n",
       "      <td></td>\n",
       "      <td>DCS</td>\n",
       "      <td></td>\n",
       "      <td></td>\n",
       "      <td></td>\n",
       "      <td></td>\n",
       "      <td>Unable to contact</td>\n",
       "      <td>12/29/2016</td>\n",
       "      <td>None</td>\n",
       "    </tr>\n",
       "    <tr>\n",
       "      <th>1</th>\n",
       "      <td>ET</td>\n",
       "      <td>417398</td>\n",
       "      <td>4/6/2015</td>\n",
       "      <td>Knox</td>\n",
       "      <td>Transitional</td>\n",
       "      <td>Eligibility</td>\n",
       "      <td>I</td>\n",
       "      <td>Jackie Campbell</td>\n",
       "      <td>4/24/2017</td>\n",
       "      <td>5/2/2017</td>\n",
       "      <td>Parent</td>\n",
       "      <td>Ineligible</td>\n",
       "      <td>5/16/2017</td>\n",
       "      <td></td>\n",
       "      <td></td>\n",
       "      <td>Ineligible for Part C</td>\n",
       "      <td>5/16/2017</td>\n",
       "      <td>None</td>\n",
       "    </tr>\n",
       "    <tr>\n",
       "      <th>2</th>\n",
       "      <td>ET</td>\n",
       "      <td>419400</td>\n",
       "      <td>3/4/2016</td>\n",
       "      <td>Roane</td>\n",
       "      <td>Transitional</td>\n",
       "      <td>Notification</td>\n",
       "      <td>I</td>\n",
       "      <td>Kelly Brackney</td>\n",
       "      <td>6/6/2017</td>\n",
       "      <td></td>\n",
       "      <td>DCS</td>\n",
       "      <td></td>\n",
       "      <td></td>\n",
       "      <td></td>\n",
       "      <td></td>\n",
       "      <td>Parent decline</td>\n",
       "      <td>6/30/2017</td>\n",
       "      <td>None</td>\n",
       "    </tr>\n",
       "    <tr>\n",
       "      <th>3</th>\n",
       "      <td>ET</td>\n",
       "      <td>397571</td>\n",
       "      <td>5/11/2015</td>\n",
       "      <td>Knox</td>\n",
       "      <td>Transitional</td>\n",
       "      <td>Eligibility</td>\n",
       "      <td>I</td>\n",
       "      <td>Wendy Burton</td>\n",
       "      <td>5/24/2017</td>\n",
       "      <td>6/13/2017</td>\n",
       "      <td>Other</td>\n",
       "      <td>Ineligible</td>\n",
       "      <td>6/16/2017</td>\n",
       "      <td></td>\n",
       "      <td></td>\n",
       "      <td>Ineligible for Part C</td>\n",
       "      <td>6/16/2017</td>\n",
       "      <td>None</td>\n",
       "    </tr>\n",
       "    <tr>\n",
       "      <th>4</th>\n",
       "      <td>ET</td>\n",
       "      <td>404648</td>\n",
       "      <td>9/23/2015</td>\n",
       "      <td>Knox</td>\n",
       "      <td>Transitional</td>\n",
       "      <td>IFSP</td>\n",
       "      <td>I</td>\n",
       "      <td>Sarah Scott</td>\n",
       "      <td>7/18/2016</td>\n",
       "      <td>7/28/2016</td>\n",
       "      <td>Other</td>\n",
       "      <td>Eligible</td>\n",
       "      <td>8/1/2016</td>\n",
       "      <td>8/16/2016</td>\n",
       "      <td>7/24/2018</td>\n",
       "      <td>618 - Part B eligibility not determined</td>\n",
       "      <td>9/21/2018</td>\n",
       "      <td>None</td>\n",
       "    </tr>\n",
       "  </tbody>\n",
       "</table>\n",
       "</div>"
      ],
      "text/plain": [
       "  POE Child ID         DOB County Name    County SES   Child Phase Active  \\\n",
       "0  ET   411812  12/14/2016      Blount  Transitional  Notification      I   \n",
       "1  ET   417398    4/6/2015        Knox  Transitional   Eligibility      I   \n",
       "2  ET   419400    3/4/2016       Roane  Transitional  Notification      I   \n",
       "3  ET   397571   5/11/2015        Knox  Transitional   Eligibility      I   \n",
       "4  ET   404648   9/23/2015        Knox  Transitional          IFSP      I   \n",
       "\n",
       "  Service Coordinator Notification Date Parent Consent Date  \\\n",
       "0      Charity Decker        12/16/2016                       \n",
       "1     Jackie Campbell         4/24/2017            5/2/2017   \n",
       "2      Kelly Brackney          6/6/2017                       \n",
       "3        Wendy Burton         5/24/2017           6/13/2017   \n",
       "4         Sarah Scott         7/18/2016           7/28/2016   \n",
       "\n",
       "  Referral Source Type Name Initial Eligibility Initial Eligibility Date  \\\n",
       "0                       DCS                                                \n",
       "1                    Parent          Ineligible                5/16/2017   \n",
       "2                       DCS                                                \n",
       "3                     Other          Ineligible                6/16/2017   \n",
       "4                     Other            Eligible                 8/1/2016   \n",
       "\n",
       "  Initial IFSP Date Latest IFSP Date                              Exit Reason  \\\n",
       "0                                                           Unable to contact   \n",
       "1                                                       Ineligible for Part C   \n",
       "2                                                              Parent decline   \n",
       "3                                                       Ineligible for Part C   \n",
       "4         8/16/2016        7/24/2018  618 - Part B eligibility not determined   \n",
       "\n",
       "    Exit Date geometry  \n",
       "0  12/29/2016     None  \n",
       "1   5/16/2017     None  \n",
       "2   6/30/2017     None  \n",
       "3   6/16/2017     None  \n",
       "4   9/21/2018     None  "
      ]
     },
     "execution_count": 3,
     "metadata": {},
     "output_type": "execute_result"
    }
   ],
   "source": [
    "teis_p = gpd.read_file('../data/TEIS_2022.csv')\n",
    "teis_p.head( )"
   ]
  },
  {
   "cell_type": "code",
   "execution_count": 4,
   "id": "9f6af182",
   "metadata": {},
   "outputs": [
    {
     "data": {
      "text/html": [
       "<div>\n",
       "<style scoped>\n",
       "    .dataframe tbody tr th:only-of-type {\n",
       "        vertical-align: middle;\n",
       "    }\n",
       "\n",
       "    .dataframe tbody tr th {\n",
       "        vertical-align: top;\n",
       "    }\n",
       "\n",
       "    .dataframe thead th {\n",
       "        text-align: right;\n",
       "    }\n",
       "</style>\n",
       "<table border=\"1\" class=\"dataframe\">\n",
       "  <thead>\n",
       "    <tr style=\"text-align: right;\">\n",
       "      <th></th>\n",
       "      <th>POE</th>\n",
       "      <th>Child ID</th>\n",
       "      <th>DOB</th>\n",
       "      <th>County Name</th>\n",
       "      <th>County SES</th>\n",
       "      <th>Child Phase</th>\n",
       "      <th>Active</th>\n",
       "      <th>Service Coordinator</th>\n",
       "      <th>Notification/ Referral Date</th>\n",
       "      <th>Parent Consent Date</th>\n",
       "      <th>...</th>\n",
       "      <th>Service Coordinator Counter</th>\n",
       "      <th>Child Count</th>\n",
       "      <th>2012 Child Count</th>\n",
       "      <th>2013 Child Count</th>\n",
       "      <th>third DOB</th>\n",
       "      <th>Late Referral</th>\n",
       "      <th>Qtr</th>\n",
       "      <th>QTR</th>\n",
       "      <th>Referral Source Category</th>\n",
       "      <th>geometry</th>\n",
       "    </tr>\n",
       "  </thead>\n",
       "  <tbody>\n",
       "    <tr>\n",
       "      <th>0</th>\n",
       "      <td>ET</td>\n",
       "      <td>403339</td>\n",
       "      <td>8/9/2014</td>\n",
       "      <td>Blount</td>\n",
       "      <td>Transitional</td>\n",
       "      <td>Eligibility</td>\n",
       "      <td>A</td>\n",
       "      <td>Kristi Borer</td>\n",
       "      <td>7/1/2016</td>\n",
       "      <td>7/1/16</td>\n",
       "      <td>...</td>\n",
       "      <td>1</td>\n",
       "      <td>1</td>\n",
       "      <td></td>\n",
       "      <td></td>\n",
       "      <td>8/9/2017</td>\n",
       "      <td></td>\n",
       "      <td>1</td>\n",
       "      <td>Qtr 1</td>\n",
       "      <td>#REF!</td>\n",
       "      <td>None</td>\n",
       "    </tr>\n",
       "    <tr>\n",
       "      <th>1</th>\n",
       "      <td>FT</td>\n",
       "      <td>404085</td>\n",
       "      <td>7/31/2013</td>\n",
       "      <td>Unicoi</td>\n",
       "      <td>At-Risk</td>\n",
       "      <td>Notification</td>\n",
       "      <td>I</td>\n",
       "      <td>Jennifer Terranera - 45 days</td>\n",
       "      <td>7/1/2016</td>\n",
       "      <td></td>\n",
       "      <td>...</td>\n",
       "      <td>1</td>\n",
       "      <td>1</td>\n",
       "      <td></td>\n",
       "      <td></td>\n",
       "      <td>7/31/2016</td>\n",
       "      <td>1</td>\n",
       "      <td>1</td>\n",
       "      <td>Qtr 1</td>\n",
       "      <td>#REF!</td>\n",
       "      <td>None</td>\n",
       "    </tr>\n",
       "    <tr>\n",
       "      <th>2</th>\n",
       "      <td>FT</td>\n",
       "      <td>403623</td>\n",
       "      <td>2/5/2016</td>\n",
       "      <td>Sullivan</td>\n",
       "      <td>Transitional</td>\n",
       "      <td>Eligibility</td>\n",
       "      <td>A</td>\n",
       "      <td>Amy Talbert</td>\n",
       "      <td>7/1/2016</td>\n",
       "      <td>7/20/16</td>\n",
       "      <td>...</td>\n",
       "      <td>1</td>\n",
       "      <td>1</td>\n",
       "      <td></td>\n",
       "      <td></td>\n",
       "      <td>2/5/2019</td>\n",
       "      <td></td>\n",
       "      <td>1</td>\n",
       "      <td>Qtr 1</td>\n",
       "      <td>#REF!</td>\n",
       "      <td>None</td>\n",
       "    </tr>\n",
       "    <tr>\n",
       "      <th>3</th>\n",
       "      <td>FT</td>\n",
       "      <td>404157</td>\n",
       "      <td>12/6/2015</td>\n",
       "      <td>Sullivan</td>\n",
       "      <td>Transitional</td>\n",
       "      <td>IFSP</td>\n",
       "      <td>A</td>\n",
       "      <td>Candice Cradic</td>\n",
       "      <td>7/1/2016</td>\n",
       "      <td>7/22/16</td>\n",
       "      <td>...</td>\n",
       "      <td>1</td>\n",
       "      <td>1</td>\n",
       "      <td></td>\n",
       "      <td></td>\n",
       "      <td>12/6/2018</td>\n",
       "      <td></td>\n",
       "      <td>1</td>\n",
       "      <td>Qtr 1</td>\n",
       "      <td>#REF!</td>\n",
       "      <td>None</td>\n",
       "    </tr>\n",
       "    <tr>\n",
       "      <th>4</th>\n",
       "      <td>FT</td>\n",
       "      <td>404154</td>\n",
       "      <td>4/18/2015</td>\n",
       "      <td>Hawkins</td>\n",
       "      <td>At-Risk</td>\n",
       "      <td>IFSP</td>\n",
       "      <td>A</td>\n",
       "      <td>Kathy Jeffries</td>\n",
       "      <td>7/1/2016</td>\n",
       "      <td>7/18/16</td>\n",
       "      <td>...</td>\n",
       "      <td>1</td>\n",
       "      <td>1</td>\n",
       "      <td></td>\n",
       "      <td></td>\n",
       "      <td>4/18/2018</td>\n",
       "      <td></td>\n",
       "      <td>1</td>\n",
       "      <td>Qtr 1</td>\n",
       "      <td>#REF!</td>\n",
       "      <td>None</td>\n",
       "    </tr>\n",
       "  </tbody>\n",
       "</table>\n",
       "<p>5 rows × 34 columns</p>\n",
       "</div>"
      ],
      "text/plain": [
       "  POE Child ID        DOB County Name    County SES   Child Phase Active  \\\n",
       "0  ET   403339   8/9/2014      Blount  Transitional   Eligibility      A   \n",
       "1  FT   404085  7/31/2013      Unicoi       At-Risk  Notification      I   \n",
       "2  FT   403623   2/5/2016    Sullivan  Transitional   Eligibility      A   \n",
       "3  FT   404157  12/6/2015    Sullivan  Transitional          IFSP      A   \n",
       "4  FT   404154  4/18/2015     Hawkins       At-Risk          IFSP      A   \n",
       "\n",
       "            Service Coordinator Notification/ Referral Date  \\\n",
       "0                  Kristi Borer                    7/1/2016   \n",
       "1  Jennifer Terranera - 45 days                    7/1/2016   \n",
       "2                   Amy Talbert                    7/1/2016   \n",
       "3                Candice Cradic                    7/1/2016   \n",
       "4                Kathy Jeffries                    7/1/2016   \n",
       "\n",
       "  Parent Consent Date  ... Service Coordinator Counter Child Count  \\\n",
       "0              7/1/16  ...                           1           1   \n",
       "1                      ...                           1           1   \n",
       "2             7/20/16  ...                           1           1   \n",
       "3             7/22/16  ...                           1           1   \n",
       "4             7/18/16  ...                           1           1   \n",
       "\n",
       "  2012 Child Count 2013 Child Count  third DOB Late Referral Qtr    QTR  \\\n",
       "0                                     8/9/2017                 1  Qtr 1   \n",
       "1                                    7/31/2016             1   1  Qtr 1   \n",
       "2                                     2/5/2019                 1  Qtr 1   \n",
       "3                                    12/6/2018                 1  Qtr 1   \n",
       "4                                    4/18/2018                 1  Qtr 1   \n",
       "\n",
       "  Referral Source Category geometry  \n",
       "0                    #REF!     None  \n",
       "1                    #REF!     None  \n",
       "2                    #REF!     None  \n",
       "3                    #REF!     None  \n",
       "4                    #REF!     None  \n",
       "\n",
       "[5 rows x 34 columns]"
      ]
     },
     "execution_count": 4,
     "metadata": {},
     "output_type": "execute_result"
    }
   ],
   "source": [
    "teis_c = gpd.read_file('../data/TEIS_mon_ref_data.csv')\n",
    "teis_c.head( )"
   ]
  },
  {
   "cell_type": "code",
   "execution_count": 5,
   "id": "76fc8cd9",
   "metadata": {},
   "outputs": [],
   "source": [
    "teis_c = teis_c.rename(columns = {'Notification/ Referral Date' : 'Notification Date'})\n",
    "teis_p = teis_p.rename(columns = {'County SES ' : 'County SES'})"
   ]
  },
  {
   "cell_type": "code",
   "execution_count": 6,
   "id": "a221c604",
   "metadata": {},
   "outputs": [
    {
     "name": "stdout",
     "output_type": "stream",
     "text": [
      "<class 'geopandas.geodataframe.GeoDataFrame'>\n",
      "Int64Index: 191578 entries, 0 to 191577\n",
      "Data columns (total 34 columns):\n",
      " #   Column                       Non-Null Count   Dtype   \n",
      "---  ------                       --------------   -----   \n",
      " 0   POE                          191578 non-null  object  \n",
      " 1   Child ID                     191578 non-null  object  \n",
      " 2   DOB                          191578 non-null  object  \n",
      " 3   County Name                  191578 non-null  object  \n",
      " 4   County SES                   191578 non-null  object  \n",
      " 5   Child Phase                  191578 non-null  object  \n",
      " 6   Active                       191578 non-null  object  \n",
      " 7   Service Coordinator          191578 non-null  object  \n",
      " 8   Notification Date            191578 non-null  object  \n",
      " 9   Parent Consent Date          191578 non-null  object  \n",
      " 10  Referral Source Type Name    191578 non-null  object  \n",
      " 11  Initial Eligibility          191578 non-null  object  \n",
      " 12  Initial Eligibility Date     191578 non-null  object  \n",
      " 13  Initial IFSP Date            191578 non-null  object  \n",
      " 14  Latest IFSP Date             191578 non-null  object  \n",
      " 15  Exit Reason                  191578 non-null  object  \n",
      " 16  Exit Date                    191578 non-null  object  \n",
      " 17  Fiscal Year                  113256 non-null  object  \n",
      " 18  Notification Month           113256 non-null  object  \n",
      " 19  Tenn Region                  113256 non-null  object  \n",
      " 20  Referral Count               113256 non-null  object  \n",
      " 21  Evaluation Count             113256 non-null  object  \n",
      " 22  Eligibility Count            113256 non-null  object  \n",
      " 23  IFSP Count                   113256 non-null  object  \n",
      " 24  Service Coordinator Counter  113256 non-null  object  \n",
      " 25  Child Count                  113256 non-null  object  \n",
      " 26  2012 Child Count             113256 non-null  object  \n",
      " 27  2013 Child Count             113256 non-null  object  \n",
      " 28  third DOB                    113256 non-null  object  \n",
      " 29  Late Referral                113256 non-null  object  \n",
      " 30  Qtr                          113256 non-null  object  \n",
      " 31  QTR                          113256 non-null  object  \n",
      " 32  Referral Source Category     113256 non-null  object  \n",
      " 33  geometry                     0 non-null       geometry\n",
      "dtypes: geometry(1), object(33)\n",
      "memory usage: 51.2+ MB\n"
     ]
    }
   ],
   "source": [
    "teis_merge = pd.merge(teis_c, teis_p, how='outer')\n",
    "teis_merge.info()"
   ]
  },
  {
   "cell_type": "code",
   "execution_count": 7,
   "id": "fe162ff7",
   "metadata": {},
   "outputs": [],
   "source": [
    "full_teis= pd.concat([teis_c, teis_p])"
   ]
  },
  {
   "cell_type": "code",
   "execution_count": 8,
   "id": "ba554b8d",
   "metadata": {},
   "outputs": [
    {
     "name": "stdout",
     "output_type": "stream",
     "text": [
      "<class 'geopandas.geodataframe.GeoDataFrame'>\n",
      "Int64Index: 191578 entries, 0 to 96579\n",
      "Data columns (total 34 columns):\n",
      " #   Column                       Non-Null Count   Dtype   \n",
      "---  ------                       --------------   -----   \n",
      " 0   POE                          191578 non-null  object  \n",
      " 1   Child ID                     191578 non-null  object  \n",
      " 2   DOB                          191578 non-null  object  \n",
      " 3   County Name                  191578 non-null  object  \n",
      " 4   County SES                   191578 non-null  object  \n",
      " 5   Child Phase                  191578 non-null  object  \n",
      " 6   Active                       191578 non-null  object  \n",
      " 7   Service Coordinator          191578 non-null  object  \n",
      " 8   Notification Date            191578 non-null  object  \n",
      " 9   Parent Consent Date          191578 non-null  object  \n",
      " 10  Referral Source Type Name    191578 non-null  object  \n",
      " 11  Initial Eligibility          191578 non-null  object  \n",
      " 12  Initial Eligibility Date     191578 non-null  object  \n",
      " 13  Initial IFSP Date            191578 non-null  object  \n",
      " 14  Latest IFSP Date             191578 non-null  object  \n",
      " 15  Exit Reason                  191578 non-null  object  \n",
      " 16  Exit Date                    191578 non-null  object  \n",
      " 17  Fiscal Year                  113256 non-null  object  \n",
      " 18  Notification Month           113256 non-null  object  \n",
      " 19  Tenn Region                  113256 non-null  object  \n",
      " 20  Referral Count               113256 non-null  object  \n",
      " 21  Evaluation Count             113256 non-null  object  \n",
      " 22  Eligibility Count            113256 non-null  object  \n",
      " 23  IFSP Count                   113256 non-null  object  \n",
      " 24  Service Coordinator Counter  113256 non-null  object  \n",
      " 25  Child Count                  113256 non-null  object  \n",
      " 26  2012 Child Count             113256 non-null  object  \n",
      " 27  2013 Child Count             113256 non-null  object  \n",
      " 28  third DOB                    113256 non-null  object  \n",
      " 29  Late Referral                113256 non-null  object  \n",
      " 30  Qtr                          113256 non-null  object  \n",
      " 31  QTR                          113256 non-null  object  \n",
      " 32  Referral Source Category     113256 non-null  object  \n",
      " 33  geometry                     0 non-null       geometry\n",
      "dtypes: geometry(1), object(33)\n",
      "memory usage: 51.2+ MB\n"
     ]
    }
   ],
   "source": [
    "teis_clean = full_teis[~full_teis.duplicated(['POE', 'Child ID', 'DOB', 'County Name', 'County SES', 'Child Phase',\n",
    "       'Active', 'Service Coordinator', 'Notification Date',\n",
    "       'Parent Consent Date', 'Referral Source Type Name',\n",
    "       'Initial Eligibility', 'Initial Eligibility Date', 'Initial IFSP Date',\n",
    "       'Latest IFSP Date', 'Exit Reason', 'Exit Date'])]\n",
    "teis_clean.info()\n",
    "#pulling out rows that are the same across all columns that the two dataframes share"
   ]
  },
  {
   "cell_type": "markdown",
   "id": "c68fd3b3",
   "metadata": {},
   "source": [
    "import re\n",
    "from tqdm.notebook import tqdm"
   ]
  },
  {
   "cell_type": "markdown",
   "id": "45d259c2",
   "metadata": {},
   "source": [
    "for ind, row in tqdm(teis_clean.iterrows()):\n",
    "    if re.search('\\d{5}', str(row['Exit Date'])):\n",
    "        teis_clean.loc[ind, 'Exit Date'] = np.NaN\n",
    "#this is clearing out the weird data that's in the 'Exit Date' column"
   ]
  },
  {
   "cell_type": "code",
   "execution_count": 9,
   "id": "ba4a2683",
   "metadata": {},
   "outputs": [
    {
     "ename": "NameError",
     "evalue": "name 're' is not defined",
     "output_type": "error",
     "traceback": [
      "\u001b[1;31m---------------------------------------------------------------------------\u001b[0m",
      "\u001b[1;31mNameError\u001b[0m                                 Traceback (most recent call last)",
      "Input \u001b[1;32mIn [9]\u001b[0m, in \u001b[0;36m<cell line: 1>\u001b[1;34m()\u001b[0m\n\u001b[0;32m      1\u001b[0m \u001b[38;5;28;01mfor\u001b[39;00m ind, row \u001b[38;5;129;01min\u001b[39;00m teis_clean\u001b[38;5;241m.\u001b[39miterrows():\n\u001b[1;32m----> 2\u001b[0m     \u001b[38;5;28;01mif\u001b[39;00m \u001b[43mre\u001b[49m\u001b[38;5;241m.\u001b[39msearch(\u001b[38;5;124m'\u001b[39m\u001b[38;5;124m\\\u001b[39m\u001b[38;5;124md\u001b[39m\u001b[38;5;132;01m{5}\u001b[39;00m\u001b[38;5;124m'\u001b[39m, \u001b[38;5;28mstr\u001b[39m(row[\u001b[38;5;124m'\u001b[39m\u001b[38;5;124mExit Date\u001b[39m\u001b[38;5;124m'\u001b[39m])):\n\u001b[0;32m      3\u001b[0m         teis_clean\u001b[38;5;241m.\u001b[39mloc[ind, \u001b[38;5;124m'\u001b[39m\u001b[38;5;124mExit Date\u001b[39m\u001b[38;5;124m'\u001b[39m] \u001b[38;5;241m=\u001b[39m np\u001b[38;5;241m.\u001b[39mNaN\n",
      "\u001b[1;31mNameError\u001b[0m: name 're' is not defined"
     ]
    }
   ],
   "source": [
    "for ind, row in teis_clean.iterrows():\n",
    "    if re.search('\\d{5}', str(row['Exit Date'])):\n",
    "        teis_clean.loc[ind, 'Exit Date'] = np.NaN\n",
    "#this is clearing out the weird data that's in the 'Exit Date' column"
   ]
  },
  {
   "cell_type": "code",
   "execution_count": null,
   "id": "92c1a5c9",
   "metadata": {},
   "outputs": [],
   "source": [
    "teis_clean[['DOB', 'Notification Date', 'Parent Consent Date', 'third DOB', 'Exit Date']] = teis_clean[['DOB', 'Notification Date', 'Parent Consent Date', 'third DOB', 'Exit Date']].apply(pd.to_datetime)\n",
    "teis_clean"
   ]
  },
  {
   "cell_type": "code",
   "execution_count": null,
   "id": "50b82233",
   "metadata": {},
   "outputs": [],
   "source": [
    "teis_clean = teis_clean.drop(columns = ['2012 Child Count', '2013 Child Count', 'Service Coordinator Counter', 'Referral Count',\n",
    "                                        'Evaluation Count', 'Eligibility Count', 'IFSP Count', 'Child Count', 'QTR', \n",
    "                                       'Referral Source Category'])\n",
    "teis_clean.head(2)\n",
    "#there isn't meaningful data in these columns (at least not for the purposes of this project)"
   ]
  },
  {
   "cell_type": "code",
   "execution_count": null,
   "id": "05de8485",
   "metadata": {},
   "outputs": [],
   "source": [
    "all_teis_dups = teis_clean[teis_clean.duplicated(['Child ID', 'Notification Date'], keep=False)].sort_values('Child ID')\n",
    "all_teis_dups\n",
    "#pulling all rows that have 'Child ID' and 'Notification Date' in common to take a look"
   ]
  },
  {
   "cell_type": "code",
   "execution_count": null,
   "id": "2d818093",
   "metadata": {},
   "outputs": [],
   "source": [
    "num_all_dup = len(np.unique(np.array(all_teis_dups['Child ID'])))\n",
    "num_all_dup"
   ]
  },
  {
   "cell_type": "code",
   "execution_count": null,
   "id": "e277b4b4",
   "metadata": {},
   "outputs": [],
   "source": [
    "county_dups = all_teis_dups[~all_teis_dups.duplicated(['County Name', 'Child ID', 'Notification Date'], keep=False)]\n",
    "county_dups\n",
    "#These are instances when the same referral was noted under 2 different counties"
   ]
  },
  {
   "cell_type": "code",
   "execution_count": null,
   "id": "a4a4c4db",
   "metadata": {},
   "outputs": [],
   "source": [
    "num_county_dup = len(np.unique(np.array(county_dups['Child ID'])))\n",
    "num_county_dup"
   ]
  },
  {
   "cell_type": "code",
   "execution_count": null,
   "id": "1ea96c25",
   "metadata": {},
   "outputs": [],
   "source": [
    "POE_dups = all_teis_dups[~all_teis_dups.duplicated(['POE', 'Child ID', 'Notification Date'], keep=False)]\n",
    "POE_dups\n",
    "#These are instances when the same referral was noted under 2 different POEs"
   ]
  },
  {
   "cell_type": "code",
   "execution_count": null,
   "id": "7929cd3d",
   "metadata": {},
   "outputs": [],
   "source": [
    "num_POE_dup = len(np.unique(np.array(POE_dups['Child ID'])))\n",
    "num_POE_dup"
   ]
  },
  {
   "cell_type": "code",
   "execution_count": null,
   "id": "6a58e06f",
   "metadata": {},
   "outputs": [],
   "source": [
    "county_status_dups = county_dups[county_dups.duplicated(['Child ID', 'Child Phase', 'Notification Date'], keep=False)]\n",
    "county_status_dups\n",
    "#looking at the duplicates that have different counties but the same status"
   ]
  },
  {
   "cell_type": "code",
   "execution_count": null,
   "id": "74899a57",
   "metadata": {},
   "outputs": [],
   "source": [
    "teis_c[teis_c.duplicated(['Child ID', 'Notification Date'], keep=False)]\n",
    "#reconfirming that this original dataframe doesn't have any rows that have the same Child ID and Notification Date"
   ]
  },
  {
   "cell_type": "code",
   "execution_count": null,
   "id": "19cadd01",
   "metadata": {},
   "outputs": [],
   "source": [
    "teis_c2 = teis_c.drop(columns = ['POE', 'DOB', 'County Name', 'County SES', 'Child Phase', 'Active', 'Service Coordinator', \n",
    "                                 'Parent Consent Date', 'Referral Source Type Name', 'Initial Eligibility', 'Initial Eligibility Date', 'Initial IFSP Date', 'Latest IFSP Date', 'Exit Reason', 'Exit Date',\n",
    "                                 '2012 Child Count', '2013 Child Count', 'Service Coordinator Counter', 'Referral Count', \n",
    "                                 'Evaluation Count', 'Eligibility Count', 'IFSP Count', 'Child Count', 'QTR', \n",
    "                                 'Referral Source Category'])\n",
    "teis_c2"
   ]
  },
  {
   "cell_type": "code",
   "execution_count": null,
   "id": "82f63b9e",
   "metadata": {},
   "outputs": [],
   "source": [
    "teis_merge3 = pd.merge(teis_c2, teis_p, how='outer').sort_values(['Child ID'])\n",
    "teis_merge3"
   ]
  },
  {
   "cell_type": "code",
   "execution_count": null,
   "id": "6d03998f",
   "metadata": {},
   "outputs": [],
   "source": [
    "teis_merge3[['DOB', 'Notification Date', 'Parent Consent Date', 'third DOB', 'Exit Date']] = teis_merge3[['DOB', 'Notification Date', 'Parent Consent Date', 'third DOB', 'Exit Date']].apply(pd.to_datetime)\n",
    "teis_merge3.info()"
   ]
  },
  {
   "cell_type": "code",
   "execution_count": null,
   "id": "cc33bc35",
   "metadata": {},
   "outputs": [],
   "source": [
    "teis_c3 = teis_c.drop(columns = ['2012 Child Count', '2013 Child Count', 'Service Coordinator Counter', 'Referral Count', \n",
    "                                 'Evaluation Count', 'Eligibility Count', 'IFSP Count', 'Child Count', 'QTR', \n",
    "                                 'Referral Source Category'])\n",
    "teis_c3"
   ]
  },
  {
   "cell_type": "code",
   "execution_count": null,
   "id": "0ddbad2f",
   "metadata": {},
   "outputs": [],
   "source": [
    "for ind, row in teis_c3.iterrows():\n",
    "    if re.search('\\d{5}', str(row['Exit Date'])):\n",
    "        teis_c3.loc[ind, 'Exit Date'] = np.NaN"
   ]
  },
  {
   "cell_type": "code",
   "execution_count": null,
   "id": "72322256",
   "metadata": {},
   "outputs": [],
   "source": [
    "teis_c3[['DOB', 'Notification Date', 'Parent Consent Date', 'third DOB', 'Exit Date']] = teis_c3[['DOB', 'Notification Date', 'Parent Consent Date', 'third DOB', 'Exit Date']].apply(pd.to_datetime)\n",
    "teis_c3"
   ]
  },
  {
   "cell_type": "code",
   "execution_count": null,
   "id": "8761e6ae",
   "metadata": {},
   "outputs": [],
   "source": [
    "teis_merge2 = pd.merge(teis_merge3, teis_c3, on=['Child ID', 'Notification Date'], how='left')\n",
    "teis_merge2.info()\n",
    "##Need to do this to bring back in the data for the rows in our merge that were present only in teis_c"
   ]
  },
  {
   "cell_type": "code",
   "execution_count": null,
   "id": "ab891cc2",
   "metadata": {},
   "outputs": [],
   "source": [
    "teis_merge2['Referral Source Type Name_x'] = teis_merge2['Referral Source Type Name_x'].fillna(teis_merge2['Referral Source Type Name_y'])\n",
    "teis_merge2['Late Referral_x'] = teis_merge2['Late Referral_x'].fillna(teis_merge2['Late Referral_y'])\n",
    "teis_merge2['Qtr_x'] = teis_merge2['Qtr_x'].fillna(teis_merge2['Qtr_y'])\n",
    "teis_merge2['POE_x'] = teis_merge2['POE_x'].fillna(teis_merge2['POE_y'])\n",
    "teis_merge2['DOB_x'] = teis_merge2['DOB_x'].fillna(teis_merge2['DOB_y'])\n",
    "teis_merge2['County Name_x'] = teis_merge2['County Name_x'].fillna(teis_merge2['County Name_y'])\n",
    "teis_merge2['County SES_x'] = teis_merge2['County SES_x'].fillna(teis_merge2['County SES_y'])\n",
    "teis_merge2['Child Phase_x'] = teis_merge2['Child Phase_x'].fillna(teis_merge2['Child Phase_y'])\n",
    "teis_merge2['Service Coordinator_x'] = teis_merge2['Service Coordinator_x'].fillna(teis_merge2['Service Coordinator_y'])\n",
    "teis_merge2['Parent Consent Date_x'] = teis_merge2['Parent Consent Date_x'].fillna(teis_merge2['Parent Consent Date_y'])\n",
    "teis_merge2['Initial Eligibility_x'] = teis_merge2['Initial Eligibility_x'].fillna(teis_merge2['Initial Eligibility_y'])\n",
    "teis_merge2['Initial Eligibility Date_x'] = teis_merge2['Initial Eligibility Date_x'].fillna(teis_merge2['Initial Eligibility Date_y'])\n",
    "teis_merge2['Initial IFSP Date_x'] = teis_merge2['Initial IFSP Date_x'].fillna(teis_merge2['Initial IFSP Date_y'])\n",
    "teis_merge2['Latest IFSP Date_x'] = teis_merge2['Latest IFSP Date_x'].fillna(teis_merge2['Latest IFSP Date_y'])\n",
    "teis_merge2['Exit Reason_x'] = teis_merge2['Exit Reason_x'].fillna(teis_merge2['Exit Reason_y'])\n",
    "teis_merge2['Exit Date_x'] = teis_merge2['Exit Date_x'].fillna(teis_merge2['Exit Date_x'])\n",
    "teis_merge2.info()\n",
    "#pulling data from the teis_c3 dataframe into the columns that originated from the teis_merge3 dataframe but had null values"
   ]
  },
  {
   "cell_type": "code",
   "execution_count": null,
   "id": "2e42c257",
   "metadata": {},
   "outputs": [],
   "source": [
    "teis_merge2 = teis_merge2.drop(columns = ['POE_y', 'DOB_y', 'County Name_y', 'County SES_y', 'Child Phase_y', 'Active_y',\n",
    "                                          'Service Coordinator_y', 'Parent Consent Date_y', 'Referral Source Type Name_y', \n",
    "                                          'Initial Eligibility_y', 'Initial Eligibility Date_y', 'Initial IFSP Date_y',\n",
    "                                          'Latest IFSP Date_y', 'Exit Reason_y', 'Exit Date_y', 'Fiscal Year_y',\n",
    "                                          'Notification Month_y', 'Tenn Region_y', 'Fiscal Year_y', 'third DOB_y', \n",
    "                                          'Late Referral_y', 'Qtr_y'])\n",
    "teis_merge2.info()\n",
    "#dropping the no longer needed columns now that we have the cells needed"
   ]
  },
  {
   "cell_type": "code",
   "execution_count": null,
   "id": "7f5feacf",
   "metadata": {},
   "outputs": [],
   "source": [
    "teis_merge2 = teis_merge2.rename(columns= {'Fiscal Year_x': 'Fiscal Year',\n",
    "                                           'Notification Month_x' : 'Notification Month', \n",
    "                                           'Tenn Region_x' : 'Tenn Region', \n",
    "                                           'Fiscal Year.1_x' : 'Fiscal Year.1',\n",
    "                                           'third DOB_x' : 'third_DOB',\n",
    "                                           'Late Referral_x' : 'Late Referral',\n",
    "                                           'Qtr_x' : 'Qtr',\n",
    "                                           'POE_x' : 'POE',\n",
    "                                           'DOB_x' : 'DOB',\n",
    "                                           'County Name_x' : 'County Name',\n",
    "                                           'County SES_x' : 'County SES',\n",
    "                                           'Child Phase_x' : 'Child Phase',\n",
    "                                           'Active_x' : 'Active',\n",
    "                                           'Service Coordinator_x' : 'Service Coordinator',\n",
    "                                           'Parent Consent Date_x' : 'Parent Consent',\n",
    "                                           'Referral Source Type Name_x' : 'Referral Source Type Name',\n",
    "                                           'Initial Eligibility_x' : 'Initial Eligibility',\n",
    "                                           'Initial Eligibility Date_x' : 'Initial Eligibility Date',\n",
    "                                           'Initial IFSP Date_x' : 'Initial IFSP Date',\n",
    "                                           'Latest IFSP Date_x' : 'Latest IFSP',\n",
    "                                           'Exit Reason_x' : 'Exit Reason',\n",
    "                                           'Exit Date_x' : 'Exit Date'})\n",
    "teis_merge2.info()\n",
    "#renaming columns to get rid of the '_x'"
   ]
  },
  {
   "cell_type": "code",
   "execution_count": null,
   "id": "ddc2302e",
   "metadata": {},
   "outputs": [],
   "source": [
    "teis_merge2['Year'] = teis_merge2['Notification Date'].dt.year\n",
    "teis_merge2.head(2)"
   ]
  },
  {
   "cell_type": "code",
   "execution_count": null,
   "id": "860b00a9",
   "metadata": {
    "scrolled": true
   },
   "outputs": [],
   "source": [
    "all_dups2 = teis_merge2[teis_merge2.duplicated(['Child ID', 'Notification Date'], keep=False)].sort_values('Child ID')\n",
    "all_dups2\n",
    "#making sure that there aren't any unanticipated duplicates"
   ]
  },
  {
   "cell_type": "markdown",
   "id": "bdbca03e",
   "metadata": {},
   "source": [
    "# SOCIO ECON QUESTION"
   ]
  },
  {
   "cell_type": "code",
   "execution_count": null,
   "id": "f28396ea",
   "metadata": {},
   "outputs": [],
   "source": [
    "socio = teis_merge2[['POE','Child ID','County Name','County SES']]\n",
    "socio"
   ]
  },
  {
   "cell_type": "code",
   "execution_count": null,
   "id": "674065d5",
   "metadata": {},
   "outputs": [],
   "source": [
    "county_group=socio.groupby('POE').count()\n",
    "county_group"
   ]
  },
  {
   "cell_type": "code",
   "execution_count": null,
   "id": "fb843887",
   "metadata": {},
   "outputs": [],
   "source": [
    "county_group=socio.groupby('County SES').count()\n",
    "county_group"
   ]
  },
  {
   "cell_type": "code",
   "execution_count": null,
   "id": "9c929b69",
   "metadata": {},
   "outputs": [],
   "source": [
    "for index, row in socio.iterrows():\n",
    "    if row['County SES'] == \"Distressed\":\n",
    "        socio.loc[index, 'econ_level'] = 5\n",
    "    elif  row['County SES'] == \"At-Risk\":\n",
    "        socio.loc[index, 'econ_level'] = 4 \n",
    "    elif  row['County SES'] == \"Transitional\":\n",
    "        socio.loc[index, 'econ_level'] = 3 \n",
    "    elif  row['County SES'] == \"Competitive\":\n",
    "        socio.loc[index, 'econ_level'] = 2\n",
    "    elif  row['County SES'] == \"Attainment\":\n",
    "        socio.loc[index, 'econ_level'] = 1  \n",
    "socio"
   ]
  },
  {
   "cell_type": "code",
   "execution_count": null,
   "id": "7dad07de",
   "metadata": {},
   "outputs": [],
   "source": [
    "POE_group=socio.groupby('POE')['econ_level'].sum()/socio.groupby('POE')['econ_level'].count()"
   ]
  },
  {
   "cell_type": "code",
   "execution_count": null,
   "id": "f92af00e",
   "metadata": {},
   "outputs": [],
   "source": [
    "POE_group=POE_group.to_frame().reset_index()"
   ]
  },
  {
   "cell_type": "code",
   "execution_count": null,
   "id": "b0a8206f",
   "metadata": {},
   "outputs": [],
   "source": [
    "plt.bar(POE_group.POE,POE_group.econ_level)\n",
    "plt.title('Average SES by POE')\n",
    "plt.xlabel('POE')\n",
    "plt.ylabel('Average SES')"
   ]
  },
  {
   "cell_type": "code",
   "execution_count": null,
   "id": "44a61997",
   "metadata": {},
   "outputs": [],
   "source": [
    "POE_group"
   ]
  },
  {
   "cell_type": "code",
   "execution_count": null,
   "id": "943992e7",
   "metadata": {},
   "outputs": [],
   "source": [
    "county_group=socio.groupby('County Name')['econ_level'].sum()/socio.groupby('County Name')['econ_level'].count()"
   ]
  },
  {
   "cell_type": "code",
   "execution_count": null,
   "id": "9a05e7af",
   "metadata": {},
   "outputs": [],
   "source": [
    "county_group=county_group.to_frame().reset_index()\n",
    "county_group"
   ]
  },
  {
   "cell_type": "code",
   "execution_count": null,
   "id": "58509618",
   "metadata": {},
   "outputs": [],
   "source": [
    "counties = gpd.read_file('../data/tncounty.shp')"
   ]
  },
  {
   "cell_type": "code",
   "execution_count": null,
   "id": "fda384bb",
   "metadata": {},
   "outputs": [],
   "source": [
    "counties.loc[0, 'geometry']"
   ]
  },
  {
   "cell_type": "code",
   "execution_count": null,
   "id": "e73c471d",
   "metadata": {},
   "outputs": [],
   "source": [
    "print(counties.loc[0, 'geometry'])"
   ]
  },
  {
   "cell_type": "code",
   "execution_count": null,
   "id": "9dc96d03",
   "metadata": {},
   "outputs": [],
   "source": [
    "county_group"
   ]
  },
  {
   "cell_type": "code",
   "execution_count": null,
   "id": "0c24e6f6",
   "metadata": {},
   "outputs": [],
   "source": [
    "counties_SES=pd.merge(counties,county_group, left_on=['NAME'], right_on = ['County Name'], how= 'outer')\n",
    "counties_SES"
   ]
  },
  {
   "cell_type": "code",
   "execution_count": null,
   "id": "ccf66c56",
   "metadata": {},
   "outputs": [],
   "source": [
    "type(counties_SES)"
   ]
  },
  {
   "cell_type": "code",
   "execution_count": null,
   "id": "5d37c0df",
   "metadata": {},
   "outputs": [],
   "source": [
    "counties_SES"
   ]
  },
  {
   "cell_type": "code",
   "execution_count": null,
   "id": "3d7d8b36",
   "metadata": {},
   "outputs": [],
   "source": [
    "fig, ax = plt.subplots(figsize = (20,20))\n",
    "counties_SES.plot(ax = ax, column = 'econ_level', cmap = 'GnBu',edgecolor = 'black')\n",
    "\n",
    "for index, row in counties_SES.iterrows():\n",
    "    plt.annotate(text=row['NAME'], \n",
    "                 xy=(row['geometry'].centroid.x, row['geometry'].centroid.y),\n",
    "                 horizontalalignment='center', fontweight = 'bold')\n",
    "    \n",
    "plt.title('SES By County');"
   ]
  },
  {
   "cell_type": "code",
   "execution_count": null,
   "id": "982ef99f",
   "metadata": {},
   "outputs": [],
   "source": [
    "fig, ax = plt.subplots(figsize = (17,17))\n",
    "counties_SES.plot(ax = ax, column = 'econ_level', legend = True, cmap = 'GnBu',edgecolor = 'black')\n",
    "\n",
    "for index, row in counties_SES.iterrows():\n",
    "    plt.annotate(text=row['NAME'], \n",
    "                 xy=(row['geometry'].centroid.x, row['geometry'].centroid.y),\n",
    "                 horizontalalignment='center', fontweight = 'bold')\n",
    "    \n",
    "plt.title('SES By County');"
   ]
  },
  {
   "cell_type": "markdown",
   "id": "cada2ba9",
   "metadata": {},
   "source": [
    "# AGE"
   ]
  },
  {
   "cell_type": "code",
   "execution_count": null,
   "id": "5a82ee9d",
   "metadata": {},
   "outputs": [],
   "source": [
    "teis_merge2.head(5)"
   ]
  },
  {
   "cell_type": "code",
   "execution_count": null,
   "id": "0f057150",
   "metadata": {},
   "outputs": [],
   "source": [
    "age = teis_merge2[['Notification Date','DOB','POE','Child ID','County Name','County SES']]\n",
    "age"
   ]
  },
  {
   "cell_type": "code",
   "execution_count": null,
   "id": "8c16585e",
   "metadata": {},
   "outputs": [],
   "source": [
    "type(age)"
   ]
  },
  {
   "cell_type": "code",
   "execution_count": null,
   "id": "82042aa4",
   "metadata": {
    "scrolled": true
   },
   "outputs": [],
   "source": [
    "age.dtypes"
   ]
  },
  {
   "cell_type": "code",
   "execution_count": null,
   "id": "f15bda35",
   "metadata": {},
   "outputs": [],
   "source": [
    "age"
   ]
  },
  {
   "cell_type": "code",
   "execution_count": null,
   "id": "86186774",
   "metadata": {},
   "outputs": [],
   "source": [
    "age['kid_age']=pd.to_datetime(age['Notification Date'])\n"
   ]
  },
  {
   "cell_type": "code",
   "execution_count": null,
   "id": "ee06dee3",
   "metadata": {},
   "outputs": [],
   "source": [
    "age.dtypes"
   ]
  },
  {
   "cell_type": "code",
   "execution_count": null,
   "id": "dd765afd",
   "metadata": {},
   "outputs": [],
   "source": [
    "age"
   ]
  },
  {
   "cell_type": "code",
   "execution_count": null,
   "id": "c844c045",
   "metadata": {},
   "outputs": [],
   "source": [
    "age['Notification Date'] = (age['Notification Date'] - age['DOB'])\n"
   ]
  },
  {
   "cell_type": "markdown",
   "id": "194bfd66",
   "metadata": {},
   "source": [
    "- will want to find the difference between notification date and the DOB.\n",
    "-Then will want ot remove any values over 3 years differnce.\n",
    "-Group By (POE, County, referral source, etc)"
   ]
  },
  {
   "cell_type": "markdown",
   "id": "bfec8683",
   "metadata": {},
   "source": [
    "* Look for patterns in referrals and re-referrals on the basis of the following:\n",
    "    - Age\n",
    "    - Referral source\n",
    "    - Socioeconomic status (County SES)\n",
    "* TEIS provides services to eligible infants and toddlers from birth to age 3. Are there any POE or service coordinators with high rates of early closure (a child exiting before reaching age 3)? For this question, only consider cases which have reached the IFSP phase."
   ]
  },
  {
   "cell_type": "code",
   "execution_count": null,
   "id": "9875667d",
   "metadata": {},
   "outputs": [],
   "source": []
  }
 ],
 "metadata": {
  "kernelspec": {
   "display_name": "Python 3 (ipykernel)",
   "language": "python",
   "name": "python3"
  },
  "language_info": {
   "codemirror_mode": {
    "name": "ipython",
    "version": 3
   },
   "file_extension": ".py",
   "mimetype": "text/x-python",
   "name": "python",
   "nbconvert_exporter": "python",
   "pygments_lexer": "ipython3",
   "version": "3.8.5"
  }
 },
 "nbformat": 4,
 "nbformat_minor": 5
}
